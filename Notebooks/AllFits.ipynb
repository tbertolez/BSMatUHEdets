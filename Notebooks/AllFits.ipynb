{
 "cells": [
  {
   "cell_type": "code",
   "execution_count": null,
   "metadata": {},
   "outputs": [],
   "source": [
    "# This notebook computes the best fit and the number of events\n",
    "# in the best fit for all possible test statistics.\n",
    "\n",
    "import os\n",
    "homedir = os.getcwd()[:-len('Notebooks')]\n",
    "import sys\n",
    "sys.path.append(\"..\") # Needed to import files\n",
    "import time\n",
    "\n",
    "import MyUnits as muns\n",
    "import MyFunctions as mfuns\n",
    "import PlottingVariables as plvars\n",
    "cmp = 1./2.54 # centimeters to inches for plotting\n",
    "import Parameters as pars\n",
    "\n",
    "import numpy as np\n",
    "import matplotlib.pyplot as plt\n",
    "from scipy import integrate\n",
    "from scipy.optimize import minimize, root\n",
    "from scipy.stats import chi2, poisson\n",
    "\n",
    "import Experiments.ANITA as AN\n",
    "import Calculators.Probabilities as probs\n",
    "import Experiments.KM3NeT as K3\n",
    "import Experiments.IceCube as IC\n",
    "import JointFits.ANITApK3pIC as AI3\n",
    "\n",
    "plvars.add_style(homedir+'PlotData/style.mplstyle')\n",
    "plotdirK = homedir + 'Figures/KM3NeT/'\n",
    "datadirK = homedir + \"Data/KM3NeT/\"\n",
    "datadirI = homedir + \"Data/IceCube/\"\n",
    "datadirA = homedir + \"Data/ANITA/\"\n"
   ]
  },
  {
   "cell_type": "code",
   "execution_count": null,
   "metadata": {},
   "outputs": [],
   "source": [
    "# INTERPOLATORS WITHOUT ABSORPTION\n",
    "# Comment (or don't run this cell) if you want T to be absorbed.\n",
    "########################################\n",
    "# pars.is_T_absorbed = True\n",
    "# K3.interp_aeff_mu = mfuns.create_interpolator_from_datafile(datadirK+\"EffectiveArea_NoAbsorption.dat\",2)\n",
    "# K3.interp_aeff_NT = mfuns.create_interpolator_from_datafile(datadirK+\"EffectiveArea_NoAbsorption.dat\",(3,4))\n",
    "# K3.interp_avgd_aeff = mfuns.create_interpolator_from_datafile(datadirK+\"AveragedArea_NoAbsorption.dat\",2)\n",
    "\n",
    "# IC.interp_aeff_mu = mfuns.create_interpolator_from_datafile(datadirI+\"EffectiveAreas_NoAbsorption.dat\",2)\n",
    "# IC.interp_aeff_NT = mfuns.create_interpolator_from_datafile(datadirI+\"EffectiveAreas_NoAbsorption.dat\",(3,4))\n",
    "\n",
    "# anita_file = datadirA + \"EffectiveAreas_NoAbsorption.dat\"\n",
    "# AN.interp_aeff_tot  = mfuns.create_interpolator_from_datafile(anita_file,2)\n",
    "# AN.interp_avg1_aeff = mfuns.create_interpolator_from_datafile(anita_file,3)\n",
    "# AN.interp_avg2_aeff = mfuns.create_interpolator_from_datafile(anita_file,4)\n",
    "# AN.interp_avg3_aeff = mfuns.create_interpolator_from_datafile(anita_file,5)\n",
    "# AN.interp_avg4_aeff = mfuns.create_interpolator_from_datafile(anita_file,6)\n",
    "# AN.interps_avgs = [AN.interp_avg1_aeff,AN.interp_avg2_aeff,AN.interp_avg3_aeff,AN.interp_avg4_aeff]\n",
    "\n",
    "# WE DON'T COUNT CASCADES\n",
    "# If this variable is False, then we take into account that KM3NeT has not looked for cascade-like events\n",
    "K3.count_cascades = False\n",
    "\n",
    "# THE PRIMARY VERTEX IS NOT DETECTABLE\n",
    "pars.N_detectable = True"
   ]
  },
  {
   "cell_type": "code",
   "execution_count": 3,
   "metadata": {},
   "outputs": [
    {
     "name": "stdout",
     "output_type": "stream",
     "text": [
      "ANITA:\txs = 2.19e-32 cm^2, lt = 4.87e-03 s, br = 0.000,\n",
      "\tphi = 4.59e+00/km^2/day = 2.11e-06*GeV/cm^2/s/sr,\n",
      "\tN_K3 = (0.00,0.15,0.00), N_IC = (0.00,9.62,0.00), N_AN = 4.05\n"
     ]
    }
   ],
   "source": [
    "##############################\n",
    "# ANITA-only\n",
    "##############################\n",
    "def ts_anita(x):\n",
    "    xs0, lt0 = np.exp(x)\n",
    "    # xs, lt = AI3.vars_at_EeV(xs0,lt0)\n",
    "    phi = AI3.BestFitDiffuseFluxANITA(xs0,lt0,0.0)\n",
    "    return AI3.DiffuseTestStatisticANITA(xs0,lt0,0.0,phi)\n",
    "\n",
    "x0 = np.array([1e-32,1e-3])\n",
    "xs0bf, lt0bf = np.exp(minimize(ts_anita,np.log(x0)).x)\n",
    "phibf = AI3.BestFitDiffuseFluxANITA(xs0bf,lt0bf,0.0)\n",
    "xsbf, ltbf = AI3.vars_at_EeV(xs0bf,lt0bf)\n",
    "eventsK3 = K3.DiffuseEvents(xsbf,ltbf,0.0,phibf,return_sum=False)\n",
    "eventsIC = IC.DiffuseEvents(xsbf,ltbf,0.0,phibf,return_sum=False)\n",
    "eventsAN = AN.DiffuseEvents(xsbf,ltbf,phibf)\n",
    "\n",
    "print(\"ANITA:\\txs = {:.2e} cm^2, lt = {:.2e} s, br = {:.3f},\\n\\tphi = {:.2e}/km^2/day = {:.2e}*GeV/cm^2/s/sr,\\n\\tN_K3 = ({:.2f},{:.2f},{:.2f}), N_IC = ({:.2f},{:.2f},{:.2f}), N_AN = {:.2f}\".format(\n",
    "        xsbf,ltbf,0.0,\n",
    "        phibf*muns.km**2*muns.day,phibf*pars.EnergyDelta/muns.GeV/4/np.pi,\n",
    "        eventsK3[0],eventsK3[1],eventsK3[2],\n",
    "        eventsIC[0],eventsIC[1],eventsIC[2], \n",
    "        eventsAN))"
   ]
  },
  {
   "cell_type": "code",
   "execution_count": 4,
   "metadata": {},
   "outputs": [
    {
     "name": "stdout",
     "output_type": "stream",
     "text": [
      "IceCu:\txs = 1.96e-32 cm^2, lt = 2.38e-03 s, br = 0.000,\n",
      "\tphi = 3.55e+00/km^2/day = 1.63e-06*GeV/cm^2/s/sr,\n",
      "\tN_K3 = (0.00,0.11,0.00), N_IC = (0.00,6.76,0.00), N_AN = 4.69\n"
     ]
    }
   ],
   "source": [
    "##############################\n",
    "# ANITA+ICECUBE\n",
    "##############################\n",
    "def ts_ANITApIC(x):\n",
    "    xs0, lt0 = np.exp(x)\n",
    "    # xs, lt = AI3.vars_at_EeV(xs0,lt0)\n",
    "    phi = AI3.BestFitDiffuseFluxAI(xs0,lt0,0.0)\n",
    "    return AI3.DiffuseTestStatisticAI(xs0,lt0,0.0,phi)\n",
    "\n",
    "x0 = np.array([1e-32,1e-3])\n",
    "xs0bf, lt0bf = np.exp(minimize(ts_ANITApIC,np.log(x0)).x)\n",
    "phibf = AI3.BestFitDiffuseFluxAI(xs0bf,lt0bf,0.0)\n",
    "xsbf, ltbf = AI3.vars_at_EeV(xs0bf,lt0bf)\n",
    "eventsK3 = K3.DiffuseEvents(xsbf,ltbf,0.0,phibf,return_sum=False)\n",
    "eventsIC = IC.DiffuseEvents(xsbf,ltbf,0.0,phibf,return_sum=False)\n",
    "eventsAN = AN.DiffuseEvents(xsbf,ltbf,phibf)\n",
    "\n",
    "print(\"IceCu:\\txs = {:.2e} cm^2, lt = {:.2e} s, br = {:.3f},\\n\\tphi = {:.2e}/km^2/day = {:.2e}*GeV/cm^2/s/sr,\\n\\tN_K3 = ({:.2f},{:.2f},{:.2f}), N_IC = ({:.2f},{:.2f},{:.2f}), N_AN = {:.2f}\".format(\n",
    "        xsbf,ltbf,0.0,\n",
    "        phibf*muns.km**2*muns.day,phibf*pars.EnergyDelta/muns.GeV/4/np.pi,\n",
    "        eventsK3[0],eventsK3[1],eventsK3[2],\n",
    "        eventsIC[0],eventsIC[1],eventsIC[2], \n",
    "        eventsAN))"
   ]
  },
  {
   "cell_type": "code",
   "execution_count": 3,
   "metadata": {},
   "outputs": [
    {
     "name": "stdout",
     "output_type": "stream",
     "text": [
      "KM3NeT:\txs = 2.23e-32 cm^2, lt = 1.03e-03 s, br = 1.000,\n",
      "\tphi = 2.06e+01/km^2/day = 9.50e-06*GeV/cm^2/s/sr,\n",
      "\tN_K3 = (0.91,0.64,0.09), N_IC = (26.48,59.65,4.89) 0.0\n"
     ]
    }
   ],
   "source": [
    "##############################\n",
    "# KM3NeT-only\n",
    "##############################\n",
    "def ts_KM3NeT(x):\n",
    "    xs0, lt0 = np.exp(x)\n",
    "    # xs, lt = AI3.vars_at_EeV(xs0,lt0)\n",
    "    phi = AI3.BestFitDiffuseFluxKM3NeT(xs0,lt0,1.0)\n",
    "    return AI3.DiffuseTestStatisticK3(xs0,lt0,1.0,phi)\n",
    "\n",
    "x0 = np.array([1e-32,1e-3])\n",
    "xs0bf, lt0bf = np.exp(minimize(ts_KM3NeT,np.log(x0)).x)\n",
    "phibf = AI3.BestFitDiffuseFluxKM3NeT(xs0bf,lt0bf,1.0)\n",
    "xsbf, ltbf = AI3.vars_at_EeV(xs0bf,lt0bf)\n",
    "eventsK3 = K3.DiffuseEvents(xsbf,ltbf,1.0,phibf,return_sum=False)\n",
    "eventsIC = IC.DiffuseEvents(xsbf,ltbf,1.0,phibf,return_sum=False)\n",
    "eventsAN = 0.0#AN.DiffuseEvents(xsbf,ltbf,phibf)\n",
    "\n",
    "print(\"KM3NeT:\\txs = {:.2e} cm^2, lt = {:.2e} s, br = {:.3f},\\n\\tphi = {:.2e}/km^2/day = {:.2e}*GeV/cm^2/s/sr,\\n\\tN_K3 = ({:.2f},{:.2f},{:.2f}), N_IC = ({:.2f},{:.2f},{:.2f})\".format(\n",
    "        xsbf,ltbf,1.0,\n",
    "        phibf*muns.km**2*muns.day,phibf*pars.EnergyDelta/muns.GeV/4/np.pi,\n",
    "        eventsK3[0],eventsK3[1],eventsK3[2],\n",
    "        eventsIC[0],eventsIC[1],eventsIC[2]),eventsAN)\n"
   ]
  },
  {
   "cell_type": "code",
   "execution_count": 3,
   "metadata": {},
   "outputs": [
    {
     "name": "stdout",
     "output_type": "stream",
     "text": [
      "IC+K3:\txs = 5.89e-33 cm^2, lt = 1.04e-04 s, br = 1.000,\n",
      "\tphi = 2.49e+00/km^2/day = 1.15e-06*GeV/cm^2/s/sr,\n",
      "\tN_K3 = (0.17,0.02,0.01), N_IC = (4.52,2.01,0.64), N_AN = 0.00\n",
      "ANITA-only flux: 2.94681e+01, K3-only flux: 2.16253e+01\n"
     ]
    }
   ],
   "source": [
    "##############################\n",
    "# KM3NeT+IceCube\n",
    "##############################\n",
    "def ts_K3pIC(x):\n",
    "    xs0, lt0 = np.exp(x)\n",
    "    # xs, lt = AI3.vars_at_EeV(xs0,lt0)\n",
    "    br = 1.0\n",
    "    phi = AI3.BestFitDiffuseFluxI3(xs0,lt0,br)\n",
    "    return AI3.DiffuseTestStatisticI3(xs0,lt0,br,phi)\n",
    "\n",
    "x0 = np.array([1e-32,1e-3])\n",
    "xs0bf, lt0bf = np.exp(minimize(ts_K3pIC,np.log(x0)).x)\n",
    "brbf = 1.0\n",
    "phibf = AI3.BestFitDiffuseFluxI3(xs0bf,lt0bf,brbf)\n",
    "xsbf, ltbf = AI3.vars_at_EeV(xs0bf,lt0bf)\n",
    "eventsK3 = K3.DiffuseEvents(xsbf,ltbf,brbf,phibf,return_sum=False)\n",
    "eventsIC = IC.DiffuseEvents(xsbf,ltbf,brbf,phibf,return_sum=False)\n",
    "eventsAN = AN.DiffuseEvents(xsbf,ltbf,phibf)*(1-brbf)\n",
    "\n",
    "print(\"IC+K3:\\txs = {:.2e} cm^2, lt = {:.2e} s, br = {:.3f},\\n\\tphi = {:.2e}/km^2/day = {:.2e}*GeV/cm^2/s/sr,\\n\\tN_K3 = ({:.2f},{:.2f},{:.2f}), N_IC = ({:.2f},{:.2f},{:.2f}), N_AN = {:.2f}\".format(\n",
    "        xsbf,ltbf,brbf,\n",
    "        phibf*muns.km**2*muns.day,phibf*pars.EnergyDelta/muns.GeV/4/np.pi,\n",
    "        eventsK3[0],eventsK3[1],eventsK3[2],\n",
    "        eventsIC[0],eventsIC[1],eventsIC[2],eventsAN))\n",
    "\n",
    "print(\"ANITA-only flux: {:.5e}, K3-only flux: {:.5e}\".format(AI3.BestFitDiffuseFluxANITA(xs0bf,lt0bf,0.0)*muns.km**2*muns.day,\n",
    "                                                             AI3.BestFitDiffuseFluxKM3NeT(xs0bf,lt0bf,1.0)*muns.km**2*muns.day))"
   ]
  },
  {
   "cell_type": "code",
   "execution_count": 4,
   "metadata": {},
   "outputs": [
    {
     "name": "stdout",
     "output_type": "stream",
     "text": [
      "AN+K3:\txs = 2.82e-32 cm^2, lt = 7.16e-04 s, br = 0.902,\n",
      "\tphi = 2.06e+01/km^2/day = 9.47e-06*GeV/cm^2/s/sr,\n",
      "\tN_K3 = (1.16,0.81,0.11), N_IC = (32.11,75.17,6.14), N_AN = 2.33\n",
      "ANITA-only flux: 2.01946e+00, K3-only flux: 1.85427e+01\n"
     ]
    }
   ],
   "source": [
    "##############################\n",
    "# KM3NeT+ANITA\n",
    "##############################\n",
    "def ts_ANITApK3(x):\n",
    "    xs0, lt0 = np.exp(x)\n",
    "    # xs, lt = AI3.vars_at_EeV(xs0,lt0)\n",
    "    br = AI3.BestFitBranchingRatioNoPhiA3(xs0,lt0)\n",
    "    phi = AI3.BestFitDiffuseFluxA3(xs0,lt0,br)\n",
    "    return AI3.DiffuseTestStatisticA3(xs0,lt0,br,phi)\n",
    "\n",
    "x0 = np.array([1e-32,1e-3])\n",
    "xs0bf, lt0bf = np.exp(minimize(ts_ANITApK3,np.log(x0)).x)\n",
    "brbf = AI3.BestFitBranchingRatioNoPhiA3(xs0bf,lt0bf)\n",
    "phibf = AI3.BestFitDiffuseFluxA3(xs0bf,lt0bf,brbf)\n",
    "xsbf, ltbf = AI3.vars_at_EeV(xs0bf,lt0bf)\n",
    "eventsK3 = K3.DiffuseEvents(xsbf,ltbf,brbf,phibf,return_sum=False)\n",
    "eventsIC = IC.DiffuseEvents(xsbf,ltbf,brbf,phibf,return_sum=False)\n",
    "eventsAN = AN.DiffuseEvents(xsbf,ltbf,phibf)*(1-brbf)\n",
    "\n",
    "print(\"AN+K3:\\txs = {:.2e} cm^2, lt = {:.2e} s, br = {:.3f},\\n\\tphi = {:.2e}/km^2/day = {:.2e}*GeV/cm^2/s/sr,\\n\\tN_K3 = ({:.2f},{:.2f},{:.2f}), N_IC = ({:.2f},{:.2f},{:.2f}), N_AN = {:.2f}\".format(\n",
    "        xsbf,ltbf,brbf,\n",
    "        phibf*muns.km**2*muns.day,phibf*pars.EnergyDelta/muns.GeV/4/np.pi,\n",
    "        eventsK3[0],eventsK3[1],eventsK3[2],\n",
    "        eventsIC[0],eventsIC[1],eventsIC[2],eventsAN))\n",
    "\n",
    "print(\"ANITA-only flux: {:.5e}, K3-only flux: {:.5e}\".format(AI3.BestFitDiffuseFluxANITA(xs0bf,lt0bf,0.0)*muns.km**2*muns.day,\n",
    "                                                             AI3.BestFitDiffuseFluxKM3NeT(xs0bf,lt0bf,1.0)*muns.km**2*muns.day))"
   ]
  },
  {
   "cell_type": "code",
   "execution_count": 5,
   "metadata": {},
   "outputs": [
    {
     "name": "stdout",
     "output_type": "stream",
     "text": [
      "ANK3IC:\txs = 5.93e-33 cm^2, lt = 1.01e-03 s, br = 0.437,\n",
      "\tphi = 8.63e+00/km^2/day = 3.97e-06*GeV/cm^2/s/sr,\n",
      "\tN_K3 = (0.12,0.09,0.01), N_IC = (4.67,7.83,0.59), N_AN = 5.94\n",
      "ANITA-only flux: 2.68858e+00, K3-only flux: 3.71492e+01\n"
     ]
    }
   ],
   "source": [
    "##############################\n",
    "# KM3NeT+ANITA+IC\n",
    "##############################\n",
    "def ts_ANITApK3pIC(x):\n",
    "    xs0, lt0 = np.exp(x)\n",
    "    # xs, lt = AI3.vars_at_EeV(xs0,lt0)\n",
    "    br = AI3.BestFitBranchingRatioNoPhiAI3(xs0,lt0)\n",
    "    phi = AI3.BestFitDiffuseFluxAI3(xs0,lt0,br)\n",
    "    return AI3.DiffuseTestStatisticAI3(xs0,lt0,br,phi)\n",
    "\n",
    "x0 = np.array([1e-32,1e-3])\n",
    "xs0bf, lt0bf = np.exp(minimize(ts_ANITApK3pIC,np.log(x0)).x)\n",
    "brbf = AI3.BestFitBranchingRatioNoPhiAI3(xs0bf,lt0bf)\n",
    "phibf = AI3.BestFitDiffuseFluxAI3(xs0bf,lt0bf,brbf)\n",
    "xsbf, ltbf = AI3.vars_at_EeV(xs0bf,lt0bf)\n",
    "eventsK3 = K3.DiffuseEvents(xsbf,ltbf,brbf,phibf,return_sum=False)\n",
    "eventsIC = IC.DiffuseEvents(xsbf,ltbf,brbf,phibf,return_sum=False)\n",
    "eventsAN = AN.DiffuseEvents(xsbf,ltbf,phibf)*(1-brbf)\n",
    "\n",
    "print(\"ANK3IC:\\txs = {:.2e} cm^2, lt = {:.2e} s, br = {:.3f},\\n\\tphi = {:.2e}/km^2/day = {:.2e}*GeV/cm^2/s/sr,\\n\\tN_K3 = ({:.2f},{:.2f},{:.2f}), N_IC = ({:.2f},{:.2f},{:.2f}), N_AN = {:.2f}\".format(\n",
    "        xsbf,ltbf,brbf,\n",
    "        phibf*muns.km**2*muns.day,phibf*pars.EnergyDelta/muns.GeV/4/np.pi,\n",
    "        eventsK3[0],eventsK3[1],eventsK3[2],\n",
    "        eventsIC[0],eventsIC[1],eventsIC[2],eventsAN))\n",
    "\n",
    "\n",
    "print(\"ANITA-only flux: {:.5e}, K3-only flux: {:.5e}\".format(AI3.BestFitDiffuseFluxANITA(xs0bf,lt0bf,0.0)*muns.km**2*muns.day,\n",
    "                                                             AI3.BestFitDiffuseFluxKM3NeT(xs0bf,lt0bf,1.0)*muns.km**2*muns.day))"
   ]
  }
 ],
 "metadata": {
  "kernelspec": {
   "display_name": "venv_UHE (3.9.23)",
   "language": "python",
   "name": "python3"
  },
  "language_info": {
   "codemirror_mode": {
    "name": "ipython",
    "version": 3
   },
   "file_extension": ".py",
   "mimetype": "text/x-python",
   "name": "python",
   "nbconvert_exporter": "python",
   "pygments_lexer": "ipython3",
   "version": "3.9.23"
  }
 },
 "nbformat": 4,
 "nbformat_minor": 2
}
